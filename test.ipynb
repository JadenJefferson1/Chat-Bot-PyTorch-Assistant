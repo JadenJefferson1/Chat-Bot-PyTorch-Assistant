{
 "cells": [
  {
   "cell_type": "markdown",
   "metadata": {},
   "source": [
    "https://www.kaggle.com/discussions/questions-and-answers/172221<br>\n",
    "https://github.com/Devinterview-io/pytorch-interview-questions?tab=readme-ov-file<br>\n",
    "https://www.javatpoint.com/pytorch-interview-questions<br>\n",
    "\n",
    "https://www.synergisticit.com/pytorch-interview-questions-and-answers/<br>\n",
    "https://www.devopsschool.com/blog/top-50-interview-questions-and-answers-of-pytorch/<br>\n"
   ]
  }
 ],
 "metadata": {
  "language_info": {
   "name": "python"
  }
 },
 "nbformat": 4,
 "nbformat_minor": 2
}
